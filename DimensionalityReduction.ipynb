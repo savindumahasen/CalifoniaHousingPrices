{
 "cells": [
  {
   "cell_type": "markdown",
   "id": "c106b8a8-2cbb-45ef-9009-79a70e1d0352",
   "metadata": {},
   "source": [
    "## Dimensionality  Reduction"
   ]
  },
  {
   "cell_type": "code",
   "execution_count": 1,
   "id": "4a2ac377-8dba-4ab4-9da8-fa3a1a8896bd",
   "metadata": {},
   "outputs": [],
   "source": [
    "### How to  eliminate the couple of features from  the trainning set and analyze the data set the probably\n",
    "  ### Help  to  speed up  the trainning process\n",
    "  ### Help in  memory  usage and cpu usage\n",
    "  ### Help to  easily visualize the data"
   ]
  },
  {
   "cell_type": "markdown",
   "id": "4c88f364-e494-4d56-8fb3-1d55786a669d",
   "metadata": {},
   "source": [
    "## The Curse Of Dimensionality"
   ]
  },
  {
   "cell_type": "markdown",
   "id": "2c819f7a-6554-4ab6-a441-e1ceae28dcf8",
   "metadata": {},
   "source": [
    "### 0D To 4D Cubes"
   ]
  },
  {
   "cell_type": "markdown",
   "id": "153e2d1f-bd61-4a0b-8087-8d16820bc008",
   "metadata": {},
   "source": [
    "![](Dimensionality.png)"
   ]
  },
  {
   "cell_type": "code",
   "execution_count": 2,
   "id": "23e946c3-db48-456a-bf0f-bfbe9e861e3e",
   "metadata": {},
   "outputs": [],
   "source": [
    "#0D - it likes point\n",
    "#1D - it likes line\n",
    "#2D - it likes square\n",
    "# 3D - it linkes cube\n",
    "# 4D - beyond the 3D, visualization possibility is very low"
   ]
  },
  {
   "cell_type": "markdown",
   "id": "d4c57db7-4be4-4eff-8208-c289d9d45473",
   "metadata": {},
   "source": [
    "### How to  do  the dimensionality  reduction\n",
    "     # Projection\n",
    "     # Manifold Learning"
   ]
  },
  {
   "cell_type": "markdown",
   "id": "bdd513ba-dfb7-419a-8281-258fa1d71019",
   "metadata": {},
   "source": [
    "## Projection"
   ]
  },
  {
   "cell_type": "code",
   "execution_count": 3,
   "id": "959bbd56-df83-4688-891d-46b1fd776266",
   "metadata": {},
   "outputs": [],
   "source": [
    "## Projection will not alwaya work"
   ]
  },
  {
   "cell_type": "markdown",
   "id": "42573865-eb52-4352-92a4-2b1021024d7e",
   "metadata": {},
   "source": [
    "![](swissroledimensionality.png)"
   ]
  },
  {
   "cell_type": "markdown",
   "id": "20c2de69-731c-4c03-98f0-6f8538ba9b9b",
   "metadata": {},
   "source": [
    "## Manifold Leraning"
   ]
  },
  {
   "cell_type": "code",
   "execution_count": 4,
   "id": "8427f512-2dbd-468e-99ad-0e8c798276e0",
   "metadata": {},
   "outputs": [],
   "source": [
    "## unroll the swiss role data set we called as Manifold Leraning"
   ]
  },
  {
   "cell_type": "markdown",
   "id": "4c5b4709-3eb7-414c-acdd-2467cf3f223d",
   "metadata": {},
   "source": [
    "![](ManifoldLearning.png)"
   ]
  },
  {
   "cell_type": "code",
   "execution_count": null,
   "id": "5d5956ee-d80c-4869-a718-ae2628ee1144",
   "metadata": {},
   "outputs": [],
   "source": []
  }
 ],
 "metadata": {
  "kernelspec": {
   "display_name": "Python 3 (ipykernel)",
   "language": "python",
   "name": "python3"
  },
  "language_info": {
   "codemirror_mode": {
    "name": "ipython",
    "version": 3
   },
   "file_extension": ".py",
   "mimetype": "text/x-python",
   "name": "python",
   "nbconvert_exporter": "python",
   "pygments_lexer": "ipython3",
   "version": "3.12.1"
  }
 },
 "nbformat": 4,
 "nbformat_minor": 5
}
