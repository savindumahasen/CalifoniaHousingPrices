{
 "cells": [
  {
   "cell_type": "markdown",
   "id": "c496214a-162f-4dee-9c72-817c96aba94a",
   "metadata": {},
   "source": [
    "## Supervised Learning"
   ]
  },
  {
   "cell_type": "markdown",
   "id": "09c3ff51-27cb-442f-be42-5e9f86b0b165",
   "metadata": {},
   "source": [
    "## K-Mean Clustering"
   ]
  },
  {
   "cell_type": "code",
   "execution_count": 1,
   "id": "0668b963-c0f4-4e1d-af03-adc90b7a7e44",
   "metadata": {},
   "outputs": [],
   "source": [
    "# one of the clustering tecnique is K-Mean clustring"
   ]
  },
  {
   "cell_type": "code",
   "execution_count": null,
   "id": "eb145a60-585b-41dc-a61a-29a5be12fced",
   "metadata": {},
   "outputs": [],
   "source": []
  }
 ],
 "metadata": {
  "kernelspec": {
   "display_name": "Python 3 (ipykernel)",
   "language": "python",
   "name": "python3"
  },
  "language_info": {
   "codemirror_mode": {
    "name": "ipython",
    "version": 3
   },
   "file_extension": ".py",
   "mimetype": "text/x-python",
   "name": "python",
   "nbconvert_exporter": "python",
   "pygments_lexer": "ipython3",
   "version": "3.12.1"
  }
 },
 "nbformat": 4,
 "nbformat_minor": 5
}
