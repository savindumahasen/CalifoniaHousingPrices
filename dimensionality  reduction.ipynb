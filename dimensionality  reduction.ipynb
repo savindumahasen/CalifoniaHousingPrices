{
 "cells": [
  {
   "cell_type": "markdown",
   "id": "c106b8a8-2cbb-45ef-9009-79a70e1d0352",
   "metadata": {},
   "source": [
    "## Dimensionality  Reduction"
   ]
  },
  {
   "cell_type": "code",
   "execution_count": 4,
   "id": "4a2ac377-8dba-4ab4-9da8-fa3a1a8896bd",
   "metadata": {},
   "outputs": [],
   "source": [
    "### How to  eliminate the couple of features from  the trainning set and analyze the data set the probably\n",
    "  ### Help  to  speed up  the trainning process\n",
    "  ### Help in  memory  usage and cpu usage\n",
    "  ### Help to  easily visualize the data"
   ]
  },
  {
   "cell_type": "markdown",
   "id": "4c88f364-e494-4d56-8fb3-1d55786a669d",
   "metadata": {},
   "source": [
    "## The Curse Of Dimensionality"
   ]
  },
  {
   "cell_type": "markdown",
   "id": "2c819f7a-6554-4ab6-a441-e1ceae28dcf8",
   "metadata": {},
   "source": [
    "### 0D To 4D Cubes"
   ]
  },
  {
   "cell_type": "code",
   "execution_count": 6,
   "id": "23e946c3-db48-456a-bf0f-bfbe9e861e3e",
   "metadata": {},
   "outputs": [],
   "source": [
    "#0D - it likes point\n",
    "#1D - it likes line\n",
    "#2D - it likes square\n",
    "# 3D - it linkes cube\n",
    "# 4D - beyond the 3D, visualization possibility is very low"
   ]
  },
  {
   "cell_type": "code",
   "execution_count": null,
   "id": "18abcaaf-2e02-4a70-9c79-17330ed956e5",
   "metadata": {},
   "outputs": [],
   "source": []
  }
 ],
 "metadata": {
  "kernelspec": {
   "display_name": "Python 3 (ipykernel)",
   "language": "python",
   "name": "python3"
  },
  "language_info": {
   "codemirror_mode": {
    "name": "ipython",
    "version": 3
   },
   "file_extension": ".py",
   "mimetype": "text/x-python",
   "name": "python",
   "nbconvert_exporter": "python",
   "pygments_lexer": "ipython3",
   "version": "3.12.1"
  }
 },
 "nbformat": 4,
 "nbformat_minor": 5
}
